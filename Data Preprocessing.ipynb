{
 "cells": [
  {
   "cell_type": "code",
   "execution_count": 1,
   "id": "adb54729",
   "metadata": {
    "collapsed": true,
    "execution": {
     "iopub.execute_input": "2025-01-08T04:09:56.748553Z",
     "iopub.status.busy": "2025-01-08T04:09:56.748171Z",
     "iopub.status.idle": "2025-01-08T04:09:56.755680Z",
     "shell.execute_reply": "2025-01-08T04:09:56.754822Z"
    },
    "jupyter": {
     "outputs_hidden": true
    },
    "papermill": {
     "duration": 0.013751,
     "end_time": "2025-01-08T04:09:56.757449",
     "exception": false,
     "start_time": "2025-01-08T04:09:56.743698",
     "status": "completed"
    },
    "tags": []
   },
   "outputs": [],
   "source": [
    "import os\n",
    "import json\n",
    "import time"
   ]
  },
  {
   "cell_type": "markdown",
   "id": "f4def6b7",
   "metadata": {
    "papermill": {
     "duration": 0.002045,
     "end_time": "2025-01-08T04:09:56.762429",
     "exception": false,
     "start_time": "2025-01-08T04:09:56.760384",
     "status": "completed"
    },
    "tags": []
   },
   "source": [
    "-------------------------------------------------------------------"
   ]
  },
  {
   "cell_type": "markdown",
   "id": "5b0a87d8",
   "metadata": {
    "papermill": {
     "duration": 0.001908,
     "end_time": "2025-01-08T04:09:56.766543",
     "exception": false,
     "start_time": "2025-01-08T04:09:56.764635",
     "status": "completed"
    },
    "tags": []
   },
   "source": [
    "# **Data Preprocessing**"
   ]
  },
  {
   "cell_type": "code",
   "execution_count": 2,
   "id": "ba3a5078",
   "metadata": {
    "execution": {
     "iopub.execute_input": "2025-01-08T04:09:56.772013Z",
     "iopub.status.busy": "2025-01-08T04:09:56.771692Z",
     "iopub.status.idle": "2025-01-08T04:09:56.785174Z",
     "shell.execute_reply": "2025-01-08T04:09:56.784193Z"
    },
    "papermill": {
     "duration": 0.01803,
     "end_time": "2025-01-08T04:09:56.786686",
     "exception": false,
     "start_time": "2025-01-08T04:09:56.768656",
     "status": "completed"
    },
    "tags": []
   },
   "outputs": [],
   "source": [
    "def SoccerNet_LoadData(root_dir, img_width=1920, img_height=1080):\n",
    "    \"\"\"\n",
    "    Function to load SoccerNet data, extract annotations, and organize metadata.\n",
    "\n",
    "    Arguments:\n",
    "    root_dir (str): Path to the root directory containing game folders.\n",
    "    img_width (int): Width of the images for normalization.\n",
    "    img_height (int): Height of the images for normalization.\n",
    "\n",
    "    Returns:\n",
    "    match_info (list): Metadata about each match.\n",
    "    img_info (list): Metadata about each image, including annotations.\n",
    "    images (list): Raw image information from the dataset.\n",
    "    \"\"\"\n",
    "    match_info = []\n",
    "    img_info = []\n",
    "    images = []\n",
    "\n",
    "    # Sort game folders by their numeric part\n",
    "    game_folders = sorted(\n",
    "        [folder for folder in os.listdir(root_dir) if os.path.isdir(os.path.join(root_dir, folder))],\n",
    "        key=lambda x: int(''.join(filter(str.isdigit, x)))  # Extract numeric part for sorting\n",
    "    )\n",
    "\n",
    "    for idx, train_folder in enumerate(game_folders):\n",
    "        train_folder_path = os.path.join(root_dir, train_folder)\n",
    "        image_folder_path = os.path.join(train_folder_path, 'img1')\n",
    "        label_path = os.path.join(train_folder_path, 'Labels-GameState.json')\n",
    "\n",
    "        # Sort image paths by their numeric part\n",
    "        image_paths = sorted(\n",
    "            [img for img in os.listdir(image_folder_path) if img.endswith(('.jpg', '.png'))],\n",
    "            key=lambda x: int(''.join(filter(str.isdigit, x)))  # Extract numeric part for sorting\n",
    "        )\n",
    "\n",
    "        # Load the label data\n",
    "        with open(label_path, 'r') as label_file:\n",
    "            label_data = json.load(label_file)\n",
    "\n",
    "            # Append match metadata\n",
    "            match_info.append(\n",
    "                {\n",
    "                    'Game Version': label_data['info']['version'],\n",
    "                    'Game ID': label_data['info']['game_id'],\n",
    "                    'Game Unique ID': label_data['info']['id'],\n",
    "                    'Tracklets Count': label_data['info']['num_tracklets'],\n",
    "                    'Action Position': label_data['info']['action_position'],\n",
    "                    'Action Class': label_data['info']['action_class'],\n",
    "                    'Game Folder Path': train_folder_path,\n",
    "                    'Image Folder Path': image_folder_path\n",
    "                }\n",
    "            )\n",
    "\n",
    "            # Extract image IDs from label data\n",
    "            img_ids = [img['image_id'] for img in label_data['images']]\n",
    "\n",
    "            for i, img_id in enumerate(img_ids):\n",
    "                img_data = next((img for img in label_data['images'] if img['image_id'] == img_id), None)\n",
    "                images.append(img_data)\n",
    "\n",
    "                if img_data:\n",
    "                    annotations = []\n",
    "                    for annotation in label_data['annotations']:\n",
    "                        if annotation[\"image_id\"] == img_id and annotation['supercategory'] != \"pitch\":\n",
    "                            bbox_image = annotation.get('bbox_image', {})\n",
    "                            x_center = bbox_image.get('x_center', 0) / img_width\n",
    "                            y_center = bbox_image.get('y_center', 0) / img_height\n",
    "                            w = bbox_image.get('w', 0) / img_width\n",
    "                            h = bbox_image.get('h', 0) / img_height\n",
    "\n",
    "                            annotations.append(\n",
    "                                {\n",
    "                                    \"Team\": annotation['attributes'].get('team', None),\n",
    "                                    \"Role\": annotation['attributes'].get('role', None),\n",
    "                                    \"Jersey Number\": annotation['attributes'].get('jersey', None),\n",
    "                                    \"Bounding Box (Image)\": (annotation['category_id'], x_center, y_center, w, h)\n",
    "                                }\n",
    "                            )\n",
    "\n",
    "                    # Aggregate annotation data for each image\n",
    "                    bounding_boxes = [ann.get(\"Bounding Box (Image)\", {}) for ann in annotations]\n",
    "                    teams = [ann.get(\"Team\", None) for ann in annotations]\n",
    "                    roles = [ann.get(\"Role\", None) for ann in annotations]\n",
    "                    jersey_numbers = [ann.get(\"Jersey Number\", None) for ann in annotations]\n",
    "\n",
    "                    # Append image metadata\n",
    "                    img_info.append({\n",
    "                        \"Image ID\": img_id,\n",
    "                        \"Image Path\": os.path.join(image_folder_path, image_paths[i]),\n",
    "                        \"Bounding Boxes (Image)\": bounding_boxes,\n",
    "                        \"Teams\": teams,\n",
    "                        \"Roles\": roles,\n",
    "                        \"Jersey Numbers\": jersey_numbers\n",
    "                    })\n",
    "\n",
    "    return match_info, img_info, images"
   ]
  },
  {
   "cell_type": "code",
   "execution_count": 3,
   "id": "d8fe5a32",
   "metadata": {
    "execution": {
     "iopub.execute_input": "2025-01-08T04:09:56.792589Z",
     "iopub.status.busy": "2025-01-08T04:09:56.792273Z",
     "iopub.status.idle": "2025-01-08T04:12:14.615755Z",
     "shell.execute_reply": "2025-01-08T04:12:14.614614Z"
    },
    "papermill": {
     "duration": 137.830066,
     "end_time": "2025-01-08T04:12:14.619252",
     "exception": false,
     "start_time": "2025-01-08T04:09:56.789186",
     "status": "completed"
    },
    "scrolled": true,
    "tags": []
   },
   "outputs": [
    {
     "name": "stdout",
     "output_type": "stream",
     "text": [
      "Time taken to process: 137.82 seconds\n"
     ]
    }
   ],
   "source": [
    "# Start the timer\n",
    "epoch_start_time = time.time()\n",
    "\n",
    "root = '/kaggle/input/gsr-soccernet-train-set'\n",
    "match_info, img_info, images = SoccerNet_LoadData(root)\n",
    "\n",
    "epoch_end_time = time.time()\n",
    "time_taken = epoch_end_time - epoch_start_time\n",
    "print(f\"Time taken to process: {time_taken:.2f} seconds\")"
   ]
  },
  {
   "cell_type": "code",
   "execution_count": 4,
   "id": "3ff19a6d",
   "metadata": {
    "execution": {
     "iopub.execute_input": "2025-01-08T04:12:14.625245Z",
     "iopub.status.busy": "2025-01-08T04:12:14.624857Z",
     "iopub.status.idle": "2025-01-08T04:12:14.633935Z",
     "shell.execute_reply": "2025-01-08T04:12:14.633171Z"
    },
    "papermill": {
     "duration": 0.013847,
     "end_time": "2025-01-08T04:12:14.635555",
     "exception": false,
     "start_time": "2025-01-08T04:12:14.621708",
     "status": "completed"
    },
    "tags": []
   },
   "outputs": [
    {
     "name": "stdout",
     "output_type": "stream",
     "text": [
      "Match Info (1st entry):\n",
      "{'Game Version': '1.3', 'Game ID': '4', 'Game Unique ID': '060', 'Tracklets Count': '26', 'Action Position': '895', 'Action Class': 'Kick-off', 'Game Folder Path': '/kaggle/input/gsr-soccernet-train-set/SNGS-060', 'Image Folder Path': '/kaggle/input/gsr-soccernet-train-set/SNGS-060/img1'}\n",
      "----------------------------------------\n",
      "Image Info (1st entry):\n",
      "{'Image ID': '1060000001', 'Image Path': '/kaggle/input/gsr-soccernet-train-set/SNGS-060/img1/000001.jpg', 'Bounding Boxes (Image)': [(1, 0.4903645833333333, 0.8712962962962963, 0.028645833333333332, 0.15925925925925927), (1, 0.4859375, 0.5888888888888889, 0.016666666666666666, 0.11296296296296296), (1, 0.51171875, 0.5773148148148148, 0.027604166666666666, 0.12314814814814815), (1, 0.6661458333333333, 0.6884259259259259, 0.022916666666666665, 0.13055555555555556), (1, 0.9911458333333333, 0.41712962962962963, 0.015625, 0.09351851851851851), (1, 0.89921875, 0.3384259259259259, 0.011979166666666667, 0.075), (1, 0.8046875, 0.48055555555555557, 0.026041666666666668, 0.07592592592592592), (1, 0.7481770833333333, 0.5439814814814815, 0.021354166666666667, 0.10462962962962963), (1, 0.5768229166666666, 0.38981481481481484, 0.0171875, 0.07962962962962963), (1, 0.5151041666666667, 0.34305555555555556, 0.011458333333333333, 0.06944444444444445), (1, 0.5216145833333333, 0.4777777777777778, 0.015104166666666667, 0.0962962962962963), (1, 0.4942708333333333, 0.3333333333333333, 0.0125, 0.07222222222222222), (1, 0.49192708333333335, 0.28564814814814815, 0.011979166666666667, 0.05277777777777778), (3, 0.43046875, 0.362962962962963, 0.028645833333333332, 0.07222222222222222), (1, 0.340625, 0.4083333333333333, 0.017708333333333333, 0.08703703703703704), (1, 0.13489583333333333, 0.4736111111111111, 0.014583333333333334, 0.10092592592592593), (3, 0.10494791666666667, 0.26851851851851855, 0.013020833333333334, 0.053703703703703705), (4, 0.5015625, 0.5152777777777777, 0.00625, 0.010185185185185186)], 'Teams': ['left', 'left', 'right', 'right', 'right', 'right', 'right', 'right', 'right', 'right', 'left', 'left', 'left', None, 'left', 'left', None, None], 'Roles': ['player', 'player', 'player', 'player', 'player', 'player', 'player', 'player', 'player', 'player', 'player', 'player', 'player', 'referee', 'player', 'player', 'referee', 'ball'], 'Jersey Numbers': ['10', '30', '27', '10', '75', None, '8', '4', '14', None, '3', '25', None, None, None, '8', None, None]}\n",
      "----------------------------------------\n",
      "Raw Image Data (1st entry):\n",
      "{'is_labeled': True, 'image_id': '1060000001', 'file_name': '000001.jpg', 'height': 1080, 'width': 1920, 'has_labeled_person': True, 'has_labeled_pitch': True, 'has_labeled_camera': True, 'ignore_regions_y': [], 'ignore_regions_x': []}\n",
      "----------------------------------------\n",
      "Match Info Keys:\n",
      "dict_keys(['Game Version', 'Game ID', 'Game Unique ID', 'Tracklets Count', 'Action Position', 'Action Class', 'Game Folder Path', 'Image Folder Path'])\n",
      "----------------------------------------\n",
      "Image Info Keys:\n",
      "dict_keys(['Image ID', 'Image Path', 'Bounding Boxes (Image)', 'Teams', 'Roles', 'Jersey Numbers'])\n",
      "----------------------------------------\n",
      "Image Data Keys:\n",
      "dict_keys(['is_labeled', 'image_id', 'file_name', 'height', 'width', 'has_labeled_person', 'has_labeled_pitch', 'has_labeled_camera', 'ignore_regions_y', 'ignore_regions_x'])\n",
      "----------------------------------------\n",
      "This is a Tuple: (1, 0.4903645833333333, 0.8712962962962963, 0.028645833333333332, 0.15925925925925927)\n"
     ]
    }
   ],
   "source": [
    "print(\"Match Info (1st entry):\")\n",
    "print(match_info[0])\n",
    "print(\"-\"*40)\n",
    "\n",
    "print(\"Image Info (1st entry):\")\n",
    "print(img_info[0])\n",
    "print(\"-\"*40)\n",
    "\n",
    "print(\"Raw Image Data (1st entry):\")\n",
    "print(images[0])\n",
    "print(\"-\"*40)\n",
    "\n",
    "print(f\"Match Info Keys:\")\n",
    "print(match_info[0].keys())\n",
    "print(\"-\"*40)\n",
    "\n",
    "print(\"Image Info Keys:\")\n",
    "print(img_info[0].keys())\n",
    "print(\"-\"*40)\n",
    "\n",
    "print(\"Image Data Keys:\")\n",
    "print(images[0].keys())\n",
    "print(\"-\"*40)\n",
    "\n",
    "# Bounding Boxes (Image): A List of Tuples ()\n",
    "print(f\"This is a Tuple: {img_info[0]['Bounding Boxes (Image)'][0]}\")\n",
    "\n",
    "# Teams: A List of String\n",
    "# Roles: A List of String\n",
    "# Jersey Numbers: A List of String"
   ]
  },
  {
   "cell_type": "markdown",
   "id": "e36dc72d",
   "metadata": {
    "papermill": {
     "duration": 0.002253,
     "end_time": "2025-01-08T04:12:14.641525",
     "exception": false,
     "start_time": "2025-01-08T04:12:14.639272",
     "status": "completed"
    },
    "tags": []
   },
   "source": [
    "Doesn't include the following: Categories key and supercategory such as Pitch (I don't know what it does)"
   ]
  },
  {
   "cell_type": "markdown",
   "id": "8de3ffaa",
   "metadata": {
    "papermill": {
     "duration": 0.002178,
     "end_time": "2025-01-08T04:12:14.646188",
     "exception": false,
     "start_time": "2025-01-08T04:12:14.644010",
     "status": "completed"
    },
    "tags": []
   },
   "source": [
    "---------------------------------------------"
   ]
  }
 ],
 "metadata": {
  "kaggle": {
   "accelerator": "none",
   "dataSources": [
    {
     "datasetId": 6441116,
     "sourceId": 10395755,
     "sourceType": "datasetVersion"
    }
   ],
   "dockerImageVersionId": 30823,
   "isGpuEnabled": false,
   "isInternetEnabled": true,
   "language": "python",
   "sourceType": "notebook"
  },
  "kernelspec": {
   "display_name": "Python 3",
   "language": "python",
   "name": "python3"
  },
  "language_info": {
   "codemirror_mode": {
    "name": "ipython",
    "version": 3
   },
   "file_extension": ".py",
   "mimetype": "text/x-python",
   "name": "python",
   "nbconvert_exporter": "python",
   "pygments_lexer": "ipython3",
   "version": "3.10.12"
  },
  "papermill": {
   "default_parameters": {},
   "duration": 140.987105,
   "end_time": "2025-01-08T04:12:15.468199",
   "environment_variables": {},
   "exception": null,
   "input_path": "__notebook__.ipynb",
   "output_path": "__notebook__.ipynb",
   "parameters": {},
   "start_time": "2025-01-08T04:09:54.481094",
   "version": "2.6.0"
  }
 },
 "nbformat": 4,
 "nbformat_minor": 5
}
